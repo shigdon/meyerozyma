{
 "cells": [
  {
   "cell_type": "markdown",
   "metadata": {},
   "source": [
    "#### Author: Shawn Higdon\n",
    "#### Date: April 17, 2018\n",
    "\n",
    "#### This workbook documents comparison of Meyerozyma isolate genomes with a Minhash approach using Sourmash\n"
   ]
  },
  {
   "cell_type": "code",
   "execution_count": 1,
   "metadata": {},
   "outputs": [
    {
     "name": "stdout",
     "output_type": "stream",
     "text": [
      "jupyter-log-18959083.txt  meyerozyma_comparison.ipynb  README.md\r\n"
     ]
    }
   ],
   "source": [
    "ls"
   ]
  },
  {
   "cell_type": "code",
   "execution_count": 2,
   "metadata": {},
   "outputs": [],
   "source": [
    "!. ~/py3/bin/activate"
   ]
  },
  {
   "cell_type": "code",
   "execution_count": 4,
   "metadata": {},
   "outputs": [
    {
     "name": "stdout",
     "output_type": "stream",
     "text": [
      "usage: sourmash [-h] [--protein] [--no-protein] [--dna] [--no-dna] [-q]\r\n",
      "                [--input-is-protein] [-k KSIZES] [-n NUM_HASHES]\r\n",
      "                [--check-sequence] [-f] [-o OUTPUT] [--singleton]\r\n",
      "                [--merge MERGED] [--name-from-first] [--track-abundance]\r\n",
      "                [--scaled SCALED] [--seed SEED] [--randomize]\r\n",
      "                [--license LICENSE]\r\n",
      "                filenames [filenames ...]\r\n",
      "\r\n",
      "positional arguments:\r\n",
      "  filenames             file(s) of sequences\r\n",
      "\r\n",
      "optional arguments:\r\n",
      "  -h, --help            show this help message and exit\r\n",
      "  --protein             build protein signatures (default: False)\r\n",
      "  --no-protein          do not build protein signatures\r\n",
      "  --dna                 build DNA signatures (default: True)\r\n",
      "  --no-dna              do not build DNA signatures\r\n",
      "  -q, --quiet           suppress non-error output\r\n",
      "  --input-is-protein    Consume protein sequences - no translation needed.\r\n",
      "  -k KSIZES, --ksizes KSIZES\r\n",
      "                        comma-separated list of k-mer sizes (default:\r\n",
      "                        21,31,51)\r\n",
      "  -n NUM_HASHES, --num-hashes NUM_HASHES\r\n",
      "                        number of hashes to use in each sketch (default: 500)\r\n",
      "  --check-sequence      complain if input sequence is invalid (default: False)\r\n",
      "  -f, --force           recompute signatures even if the file exists (default:\r\n",
      "                        False)\r\n",
      "  -o OUTPUT, --output OUTPUT\r\n",
      "                        output computed signatures to this file\r\n",
      "  --singleton           compute a signature for each sequence record\r\n",
      "                        individually (default: False)\r\n",
      "  --merge MERGED, --name MERGED\r\n",
      "                        merge all input files into one signature named this\r\n",
      "  --name-from-first     name the signature generated from each file after the\r\n",
      "                        first record in the file (default: False)\r\n",
      "  --track-abundance     track k-mer abundances in the generated signature\r\n",
      "                        (default: False)\r\n",
      "  --scaled SCALED       choose number of hashes as 1 in FRACTION of input\r\n",
      "                        k-mers\r\n",
      "  --seed SEED           seed used by MurmurHash (default: 42)\r\n",
      "  --randomize           shuffle the list of input filenames randomly\r\n",
      "  --license LICENSE     signature license. Currently only CC0 is supported.\r\n"
     ]
    }
   ],
   "source": [
    "!sourmash compute -h"
   ]
  },
  {
   "cell_type": "code",
   "execution_count": 13,
   "metadata": {},
   "outputs": [
    {
     "name": "stdout",
     "output_type": "stream",
     "text": [
      "001\n",
      "\u001b[Ksetting num_hashes to 0 because --scaled is set\n",
      "\u001b[Kcomputing signatures for files: ../meyerozyma_assemblies/001.fa\n",
      "\u001b[KComputing signature for ksizes: [31]\n",
      "\u001b[KComputing only DNA (and not protein) signatures.\n",
      "\u001b[KComputing a total of 1 signature(s).\n",
      "\u001b[K... reading sequences from ../meyerozyma_assemblies/001.fa\n",
      "\u001b[Kcalculated 1 signatures for 212 sequences in ../meyerozyma_assemblies/001.fa\n",
      "\u001b[Ksaved 1 signature(s). Note: signature license is CC0.\n",
      "008\n",
      "\u001b[Ksetting num_hashes to 0 because --scaled is set\n",
      "\u001b[Kcomputing signatures for files: ../meyerozyma_assemblies/008.fa\n",
      "\u001b[KComputing signature for ksizes: [31]\n",
      "\u001b[KComputing only DNA (and not protein) signatures.\n",
      "\u001b[KComputing a total of 1 signature(s).\n",
      "\u001b[K... reading sequences from ../meyerozyma_assemblies/008.fa\n",
      "\u001b[Kcalculated 1 signatures for 123 sequences in ../meyerozyma_assemblies/008.fa\n",
      "\u001b[Ksaved 1 signature(s). Note: signature license is CC0.\n",
      "016\n",
      "\u001b[Ksetting num_hashes to 0 because --scaled is set\n",
      "\u001b[Kcomputing signatures for files: ../meyerozyma_assemblies/016.fa\n",
      "\u001b[KComputing signature for ksizes: [31]\n",
      "\u001b[KComputing only DNA (and not protein) signatures.\n",
      "\u001b[KComputing a total of 1 signature(s).\n",
      "\u001b[K... reading sequences from ../meyerozyma_assemblies/016.fa\n",
      "\u001b[Kcalculated 1 signatures for 1137 sequences in ../meyerozyma_assemblies/016.fa\n",
      "\u001b[Ksaved 1 signature(s). Note: signature license is CC0.\n",
      "025\n",
      "\u001b[Ksetting num_hashes to 0 because --scaled is set\n",
      "\u001b[Kcomputing signatures for files: ../meyerozyma_assemblies/025.fa\n",
      "\u001b[KComputing signature for ksizes: [31]\n",
      "\u001b[KComputing only DNA (and not protein) signatures.\n",
      "\u001b[KComputing a total of 1 signature(s).\n",
      "\u001b[K... reading sequences from ../meyerozyma_assemblies/025.fa\n",
      "\u001b[Kcalculated 1 signatures for 266 sequences in ../meyerozyma_assemblies/025.fa\n",
      "\u001b[Ksaved 1 signature(s). Note: signature license is CC0.\n",
      "049\n",
      "\u001b[Ksetting num_hashes to 0 because --scaled is set\n",
      "\u001b[Kcomputing signatures for files: ../meyerozyma_assemblies/049.fa\n",
      "\u001b[KComputing signature for ksizes: [31]\n",
      "\u001b[KComputing only DNA (and not protein) signatures.\n",
      "\u001b[KComputing a total of 1 signature(s).\n",
      "\u001b[K... reading sequences from ../meyerozyma_assemblies/049.fa\n",
      "\u001b[Kcalculated 1 signatures for 117 sequences in ../meyerozyma_assemblies/049.fa\n",
      "\u001b[Ksaved 1 signature(s). Note: signature license is CC0.\n",
      "053\n",
      "\u001b[Ksetting num_hashes to 0 because --scaled is set\n",
      "\u001b[Kcomputing signatures for files: ../meyerozyma_assemblies/053.fa\n",
      "\u001b[KComputing signature for ksizes: [31]\n",
      "\u001b[KComputing only DNA (and not protein) signatures.\n",
      "\u001b[KComputing a total of 1 signature(s).\n",
      "\u001b[K... reading sequences from ../meyerozyma_assemblies/053.fa\n",
      "\u001b[Kcalculated 1 signatures for 160 sequences in ../meyerozyma_assemblies/053.fa\n",
      "\u001b[Ksaved 1 signature(s). Note: signature license is CC0.\n",
      "068\n",
      "\u001b[Ksetting num_hashes to 0 because --scaled is set\n",
      "\u001b[Kcomputing signatures for files: ../meyerozyma_assemblies/068.fa\n",
      "\u001b[KComputing signature for ksizes: [31]\n",
      "\u001b[KComputing only DNA (and not protein) signatures.\n",
      "\u001b[KComputing a total of 1 signature(s).\n",
      "\u001b[K... reading sequences from ../meyerozyma_assemblies/068.fa\n",
      "\u001b[Kcalculated 1 signatures for 312 sequences in ../meyerozyma_assemblies/068.fa\n",
      "\u001b[Ksaved 1 signature(s). Note: signature license is CC0.\n",
      "071\n",
      "\u001b[Ksetting num_hashes to 0 because --scaled is set\n",
      "\u001b[Kcomputing signatures for files: ../meyerozyma_assemblies/071.fa\n",
      "\u001b[KComputing signature for ksizes: [31]\n",
      "\u001b[KComputing only DNA (and not protein) signatures.\n",
      "\u001b[KComputing a total of 1 signature(s).\n",
      "\u001b[K... reading sequences from ../meyerozyma_assemblies/071.fa\n",
      "\u001b[Kcalculated 1 signatures for 93 sequences in ../meyerozyma_assemblies/071.fa\n",
      "\u001b[Ksaved 1 signature(s). Note: signature license is CC0.\n",
      "081\n",
      "\u001b[Ksetting num_hashes to 0 because --scaled is set\n",
      "\u001b[Kcomputing signatures for files: ../meyerozyma_assemblies/081.fa\n",
      "\u001b[KComputing signature for ksizes: [31]\n",
      "\u001b[KComputing only DNA (and not protein) signatures.\n",
      "\u001b[KComputing a total of 1 signature(s).\n",
      "\u001b[K... reading sequences from ../meyerozyma_assemblies/081.fa\n",
      "\u001b[Kcalculated 1 signatures for 98 sequences in ../meyerozyma_assemblies/081.fa\n",
      "\u001b[Ksaved 1 signature(s). Note: signature license is CC0.\n",
      "084\n",
      "\u001b[Ksetting num_hashes to 0 because --scaled is set\n",
      "\u001b[Kcomputing signatures for files: ../meyerozyma_assemblies/084.fa\n",
      "\u001b[KComputing signature for ksizes: [31]\n",
      "\u001b[KComputing only DNA (and not protein) signatures.\n",
      "\u001b[KComputing a total of 1 signature(s).\n",
      "\u001b[K... reading sequences from ../meyerozyma_assemblies/084.fa\n",
      "\u001b[Kcalculated 1 signatures for 94 sequences in ../meyerozyma_assemblies/084.fa\n",
      "\u001b[Ksaved 1 signature(s). Note: signature license is CC0.\n",
      "094\n",
      "\u001b[Ksetting num_hashes to 0 because --scaled is set\n",
      "\u001b[Kcomputing signatures for files: ../meyerozyma_assemblies/094.fa\n",
      "\u001b[KComputing signature for ksizes: [31]\n",
      "\u001b[KComputing only DNA (and not protein) signatures.\n",
      "\u001b[KComputing a total of 1 signature(s).\n",
      "\u001b[K... reading sequences from ../meyerozyma_assemblies/094.fa\n",
      "\u001b[Kcalculated 1 signatures for 100 sequences in ../meyerozyma_assemblies/094.fa\n",
      "\u001b[Ksaved 1 signature(s). Note: signature license is CC0.\n",
      "127\n",
      "\u001b[Ksetting num_hashes to 0 because --scaled is set\n",
      "\u001b[Kcomputing signatures for files: ../meyerozyma_assemblies/127.fa\n",
      "\u001b[KComputing signature for ksizes: [31]\n",
      "\u001b[KComputing only DNA (and not protein) signatures.\n",
      "\u001b[KComputing a total of 1 signature(s).\n",
      "\u001b[K... reading sequences from ../meyerozyma_assemblies/127.fa\n",
      "\u001b[Kcalculated 1 signatures for 93 sequences in ../meyerozyma_assemblies/127.fa\n",
      "\u001b[Ksaved 1 signature(s). Note: signature license is CC0.\n",
      "132\n",
      "\u001b[Ksetting num_hashes to 0 because --scaled is set\n",
      "\u001b[Kcomputing signatures for files: ../meyerozyma_assemblies/132.fa\n",
      "\u001b[KComputing signature for ksizes: [31]\n",
      "\u001b[KComputing only DNA (and not protein) signatures.\n",
      "\u001b[KComputing a total of 1 signature(s).\n",
      "\u001b[K... reading sequences from ../meyerozyma_assemblies/132.fa\n",
      "\u001b[Kcalculated 1 signatures for 109 sequences in ../meyerozyma_assemblies/132.fa\n",
      "\u001b[Ksaved 1 signature(s). Note: signature license is CC0.\n",
      "135\n",
      "\u001b[Ksetting num_hashes to 0 because --scaled is set\n",
      "\u001b[Kcomputing signatures for files: ../meyerozyma_assemblies/135.fa\n",
      "\u001b[KComputing signature for ksizes: [31]\n",
      "\u001b[KComputing only DNA (and not protein) signatures.\n",
      "\u001b[KComputing a total of 1 signature(s).\n",
      "\u001b[K... reading sequences from ../meyerozyma_assemblies/135.fa\n",
      "\u001b[Kcalculated 1 signatures for 85 sequences in ../meyerozyma_assemblies/135.fa\n",
      "\u001b[Ksaved 1 signature(s). Note: signature license is CC0.\n",
      "344\n",
      "\u001b[Ksetting num_hashes to 0 because --scaled is set\n",
      "\u001b[Kcomputing signatures for files: ../meyerozyma_assemblies/344.fa\n",
      "\u001b[KComputing signature for ksizes: [31]\n",
      "\u001b[KComputing only DNA (and not protein) signatures.\n",
      "\u001b[KComputing a total of 1 signature(s).\n",
      "\u001b[K... reading sequences from ../meyerozyma_assemblies/344.fa\n",
      "\u001b[Kcalculated 1 signatures for 408 sequences in ../meyerozyma_assemblies/344.fa\n",
      "\u001b[Ksaved 1 signature(s). Note: signature license is CC0.\n",
      "425\n",
      "\u001b[Ksetting num_hashes to 0 because --scaled is set\n",
      "\u001b[Kcomputing signatures for files: ../meyerozyma_assemblies/425.fa\n",
      "\u001b[KComputing signature for ksizes: [31]\n",
      "\u001b[KComputing only DNA (and not protein) signatures.\n",
      "\u001b[KComputing a total of 1 signature(s).\n",
      "\u001b[K... reading sequences from ../meyerozyma_assemblies/425.fa\n",
      "\u001b[Kcalculated 1 signatures for 114 sequences in ../meyerozyma_assemblies/425.fa\n",
      "\u001b[Ksaved 1 signature(s). Note: signature license is CC0.\n"
     ]
    }
   ],
   "source": [
    "!for i in ../meyerozyma_assemblies/*; do bname=`basename $i`; newname=$(echo $bname | cut -d. -f1); echo $newname; sourmash compute -k 31 --scaled 1000 $i -o ${newname}.sig; done"
   ]
  },
  {
   "cell_type": "code",
   "execution_count": 15,
   "metadata": {},
   "outputs": [],
   "source": [
    "!mkdir k31_sigs"
   ]
  },
  {
   "cell_type": "code",
   "execution_count": 16,
   "metadata": {},
   "outputs": [],
   "source": [
    "!mv *.sig k31_sigs/"
   ]
  },
  {
   "cell_type": "code",
   "execution_count": 21,
   "metadata": {},
   "outputs": [
    {
     "name": "stdout",
     "output_type": "stream",
     "text": [
      "\u001b[Kloaded 16 signatures total.                                                    \n",
      "\u001b[Kdownsampling to scaled value of 1000\n",
      "\u001b[K\n",
      "0-../meyerozyma_a...\t[ 1.  0.  0.  0.  0.  0.  0.  0.  0.  0.  0.  0.  0.  0.  0.  0.]\n",
      "1-../meyerozyma_a...\t[ 0.997  1.     0.     0.     0.     0.     0.     0.     0.     0.     0.\n",
      "  0.     0.     0.     0.     0.   ]\n",
      "2-../meyerozyma_a...\t[ 0.961  0.96   1.     0.     0.     0.     0.     0.     0.     0.     0.\n",
      "  0.     0.     0.     0.     0.   ]\n",
      "3-../meyerozyma_a...\t[ 0.992  0.992  0.956  1.     0.     0.     0.     0.     0.     0.     0.\n",
      "  0.     0.     0.     0.     0.   ]\n",
      "4-../meyerozyma_a...\t[ 0.997  0.996  0.96   0.991  1.     0.     0.     0.     0.     0.     0.\n",
      "  0.     0.     0.     0.     0.   ]\n",
      "5-../meyerozyma_a...\t[ 0.996  0.996  0.96   0.991  0.996  1.     0.     0.     0.     0.     0.\n",
      "  0.     0.     0.     0.     0.   ]\n",
      "6-../meyerozyma_a...\t[ 0.99   0.99   0.954  0.985  0.991  0.989  1.     0.     0.     0.     0.\n",
      "  0.     0.     0.     0.     0.   ]\n",
      "7-../meyerozyma_a...\t[ 0.998  0.998  0.961  0.992  0.998  0.997  0.991  1.     0.     0.     0.\n",
      "  0.     0.     0.     0.     0.   ]\n",
      "8-../meyerozyma_a...\t[ 0.997  0.997  0.96   0.992  0.997  0.996  0.991  0.998  1.     0.     0.\n",
      "  0.     0.     0.     0.     0.   ]\n",
      "9-../meyerozyma_a...\t[ 0.998  0.998  0.962  0.993  0.998  0.997  0.991  0.999  0.998  1.     0.\n",
      "  0.     0.     0.     0.     0.   ]\n",
      "10-../meyerozyma_...\t[ 0.998  0.997  0.961  0.992  0.997  0.996  0.991  0.998  0.997  0.998  1.\n",
      "  0.     0.     0.     0.     0.   ]\n",
      "11-../meyerozyma_...\t[ 0.998  0.997  0.961  0.992  0.997  0.997  0.991  0.998  0.997  0.999\n",
      "  0.998  1.     0.     0.     0.     0.   ]\n",
      "12-../meyerozyma_...\t[ 0.997  0.996  0.96   0.991  0.996  0.995  0.989  0.997  0.997  0.997\n",
      "  0.997  0.997  1.     0.     0.     0.   ]\n",
      "13-../meyerozyma_...\t[ 0.998  0.998  0.962  0.992  0.997  0.997  0.991  0.998  0.998  0.999\n",
      "  0.998  0.998  0.997  1.     0.     0.   ]\n",
      "14-../meyerozyma_...\t[ 0.986  0.986  0.95   0.981  0.986  0.985  0.979  0.987  0.987  0.987\n",
      "  0.986  0.986  0.985  0.987  1.     0.   ]\n",
      "15-../meyerozyma_...\t[ 0.998  0.997  0.961  0.992  0.997  0.997  0.991  0.998  0.998  0.999\n",
      "  0.998  0.998  0.997  0.999  0.987  1.   ]\n",
      "min similarity in matrix: 0.950\n",
      "\u001b[Ksaving labels to: k31_sigs/meyero_k31_cmp.labels.txt\n",
      "\u001b[Ksaving distance matrix to: k31_sigs/meyero_k31_cmp\n"
     ]
    }
   ],
   "source": [
    "!sourmash compare k31_sigs/* -o k31_sigs/meyero_k31_cmp"
   ]
  },
  {
   "cell_type": "code",
   "execution_count": 22,
   "metadata": {},
   "outputs": [
    {
     "name": "stdout",
     "output_type": "stream",
     "text": [
      "001.sig  025.sig  068.sig  084.sig  132.sig  425.sig\r\n",
      "008.sig  049.sig  071.sig  094.sig  135.sig  meyero_k31_cmp\r\n",
      "016.sig  053.sig  081.sig  127.sig  344.sig  meyero_k31_cmp.labels.txt\r\n"
     ]
    }
   ],
   "source": [
    "ls k31_sigs/"
   ]
  },
  {
   "cell_type": "code",
   "execution_count": 24,
   "metadata": {},
   "outputs": [
    {
     "name": "stdout",
     "output_type": "stream",
     "text": [
      "../meyerozyma_assemblies/001.fa\r\n",
      "../meyerozyma_assemblies/008.fa\r\n",
      "../meyerozyma_assemblies/016.fa\r\n",
      "../meyerozyma_assemblies/025.fa\r\n",
      "../meyerozyma_assemblies/049.fa\r\n",
      "../meyerozyma_assemblies/053.fa\r\n",
      "../meyerozyma_assemblies/068.fa\r\n",
      "../meyerozyma_assemblies/071.fa\r\n",
      "../meyerozyma_assemblies/081.fa\r\n",
      "../meyerozyma_assemblies/084.fa\r\n"
     ]
    }
   ],
   "source": [
    "!head k31_sigs/meyero_k31_cmp.labels.txt"
   ]
  },
  {
   "cell_type": "code",
   "execution_count": 27,
   "metadata": {},
   "outputs": [
    {
     "name": "stdout",
     "output_type": "stream",
     "text": [
      "/home/smhigdon/Projects/mucilage_genomes/meyerozyma/k31_sigs\n"
     ]
    }
   ],
   "source": [
    "cd k31_sigs/"
   ]
  },
  {
   "cell_type": "code",
   "execution_count": 35,
   "metadata": {},
   "outputs": [
    {
     "name": "stdout",
     "output_type": "stream",
     "text": [
      "../meyerozyma_assemblies/001.fa\r\n",
      "../meyerozyma_assemblies/008.fa\r\n",
      "../meyerozyma_assemblies/016.fa\r\n",
      "../meyerozyma_assemblies/025.fa\r\n",
      "../meyerozyma_assemblies/049.fa\r\n"
     ]
    }
   ],
   "source": [
    "!head -n5 meyero_k31_cmp.labels.txt"
   ]
  },
  {
   "cell_type": "code",
   "execution_count": 43,
   "metadata": {},
   "outputs": [],
   "source": [
    "# remove file path prefixes\n",
    "for line in fileinput.input(['meyero_k31_cmp.labels.txt'], inplace=True):\n",
    "    print(line.replace('../meyerozyma_assemblies/', ''), end='')\n"
   ]
  },
  {
   "cell_type": "code",
   "execution_count": 44,
   "metadata": {},
   "outputs": [
    {
     "name": "stdout",
     "output_type": "stream",
     "text": [
      "001.fa\r\n",
      "008.fa\r\n",
      "016.fa\r\n",
      "025.fa\r\n",
      "049.fa\r\n"
     ]
    }
   ],
   "source": [
    "!head -n5 meyero_k31_cmp.labels.txt"
   ]
  },
  {
   "cell_type": "code",
   "execution_count": 45,
   "metadata": {},
   "outputs": [],
   "source": [
    "%matplotlib inline"
   ]
  },
  {
   "cell_type": "code",
   "execution_count": 46,
   "metadata": {},
   "outputs": [],
   "source": [
    "import sys\n",
    "sys.path.insert(0, '../../')\n",
    "from sourmash_lib import fig"
   ]
  },
  {
   "cell_type": "code",
   "execution_count": 47,
   "metadata": {},
   "outputs": [],
   "source": [
    "mat, labels = fig.load_matrix_and_labels('meyero_k31_cmp')"
   ]
  },
  {
   "cell_type": "code",
   "execution_count": 48,
   "metadata": {},
   "outputs": [
    {
     "data": {
      "image/png": "[encoded data removed]",
      "text/plain": [
       "<matplotlib.figure.Figure at 0x2b414b9da1d0>"
      ]
     },
     "metadata": {},
     "output_type": "display_data"
    }
   ],
   "source": [
    "k31_plot = fig.plot_composite_matrix(mat, labels, vmax=1.0)\n"
   ]
  },
  {
   "cell_type": "code",
   "execution_count": 49,
   "metadata": {},
   "outputs": [
    {
     "name": "stdout",
     "output_type": "stream",
     "text": [
      "usage: \r\n",
      "sourmash lca <command> [<args>] - work with taxonomic information.\r\n",
      "\r\n",
      "** Commands can be:\r\n",
      "\r\n",
      "index <taxonomy.csv> <output_db name> <signature [...]>  - create LCA database\r\n",
      "classify --db <db_name [...]> --query <signature [...]>  - classify genomes\r\n",
      "gather <signature> <db_name [...]>                       - classify metagenomes\r\n",
      "summarize --db <db_name [...]> --query <signature [...]> - summarize mixture\r\n",
      "rankinfo <db_name [...]>                                 - database rank info\r\n",
      "compare_csv <csv1> <csv2>                                - compare spreadsheets\r\n",
      "\r\n",
      "** Use '-h' to get subcommand-specific help, e.g.\r\n",
      "\r\n",
      "sourmash lca index -h\r\n",
      "\r\n",
      "lowest-common ancestor (LCA) utilities\r\n",
      "\r\n",
      "positional arguments:\r\n",
      "  lca_command\r\n",
      "\r\n",
      "optional arguments:\r\n",
      "  -h, --help   show this help message and exit\r\n"
     ]
    }
   ],
   "source": [
    "!sourmash lca -h"
   ]
  },
  {
   "cell_type": "code",
   "execution_count": 50,
   "metadata": {},
   "outputs": [
    {
     "name": "stdout",
     "output_type": "stream",
     "text": [
      "001.sig  025.sig  068.sig  084.sig  132.sig  425.sig\r\n",
      "008.sig  049.sig  071.sig  094.sig  135.sig  meyero_k31_cmp\r\n",
      "016.sig  053.sig  081.sig  127.sig  344.sig  meyero_k31_cmp.labels.txt\r\n"
     ]
    }
   ],
   "source": [
    "ls"
   ]
  },
  {
   "cell_type": "code",
   "execution_count": 52,
   "metadata": {},
   "outputs": [
    {
     "name": "stdout",
     "output_type": "stream",
     "text": [
      "\u001b[Kloaded 1 LCA databases. ksize=31, scaled=10000k-k31.lca.json.gz\n",
      "\u001b[Kloaded query: ../meyerozyma_assemblies/001.f... (k=31)\n",
      "\n",
      "overlap     p_query p_match \n",
      "---------   ------- --------\n",
      "8.7 Mbp      80.5%   97.7%      Meyerozyma caribbica\n",
      "220.0 kbp     2.0%    2.4%      Meyerozyma guilliermondii\n",
      "30.0 kbp      0.3%    0.0%      Escherichia coli (** 3 equal matches)\n",
      "10.0 kbp      0.1%    0.0%      Stagonosporopsis tanaceti (** 32 equal matches)\n",
      "10.0 kbp      0.1%    0.2%      Enterobacter cloacae complex sp. 35734 (** 31 equal matches)\n",
      "10.0 kbp      0.1%    0.1%      Meyerozyma [Candida] carpophila\n",
      "\n",
      "17.0% (1.8 Mbp) of hashes have no assignment.\n",
      "\u001b[Kloaded 1 LCA databases. ksize=31, scaled=10000k-k31.lca.json.gz\n",
      "\u001b[Kloaded query: ../meyerozyma_assemblies/008.f... (k=31)\n",
      "\n",
      "overlap     p_query p_match \n",
      "---------   ------- --------\n",
      "8.7 Mbp      80.5%   97.7%      Meyerozyma caribbica\n",
      "220.0 kbp     2.0%    2.4%      Meyerozyma guilliermondii\n",
      "10.0 kbp      0.1%    0.0%      Stagonosporopsis tanaceti (** 4 equal matches)\n",
      "10.0 kbp      0.1%    0.1%      Raoultella terrigena (** 3 equal matches)\n",
      "10.0 kbp      0.1%    0.0%      Enterobacter hormaechei (** 1 equal matches)\n",
      "10.0 kbp      0.1%    0.1%      Meyerozyma [Candida] carpophila\n",
      "\n",
      "17.1% (1.9 Mbp) of hashes have no assignment.\n",
      "\u001b[Kloaded 1 LCA databases. ksize=31, scaled=10000k-k31.lca.json.gz\n",
      "\u001b[Kloaded query: ../meyerozyma_assemblies/016.f... (k=31)\n",
      "\n",
      "overlap     p_query p_match \n",
      "---------   ------- --------\n",
      "8.7 Mbp      78.3%   97.7%      Meyerozyma caribbica\n",
      "220.0 kbp     2.0%    2.4%      Meyerozyma guilliermondii\n",
      "50.0 kbp      0.4%    0.0%      Enterobacter cloacae (** 1 equal matches)\n",
      "30.0 kbp      0.3%    0.7%      Enterobacter sp. 638\n",
      "10.0 kbp      0.1%    0.0%      Stagonosporopsis tanaceti (** 8 equal matches)\n",
      "10.0 kbp      0.1%    0.2%      unassigned Enterobacteriaceae bacterium LSJC7 (** 7 equal matches)\n",
      "10.0 kbp      0.1%    0.0%      Pectobacterium carotovorum (** 5 equal matches)\n",
      "10.0 kbp      0.1%    0.1%      Meyerozyma [Candida] carpophila (** 4 equal matches)\n",
      "10.0 kbp      0.1%    0.1%      Lelliottia amnigena (** 3 equal matches)\n",
      "10.0 kbp      0.1%    0.3%      unassigned Enterobacteriaceae bacterium B14 (** 2 equal matches)\n",
      "10.0 kbp      0.1%    0.0%      Salmonella enterica\n",
      "\n",
      "18.4% (2.0 Mbp) of hashes have no assignment.\n",
      "\u001b[Kloaded 1 LCA databases. ksize=31, scaled=10000k-k31.lca.json.gz\n",
      "\u001b[Kloaded query: ../meyerozyma_assemblies/025.f... (k=31)\n",
      "\n",
      "overlap     p_query p_match \n",
      "---------   ------- --------\n",
      "8.7 Mbp      80.0%   97.7%      Meyerozyma caribbica\n",
      "220.0 kbp     2.0%    2.4%      Meyerozyma guilliermondii\n",
      "80.0 kbp      0.7%    0.0%      Enterobacter cloacae\n",
      "10.0 kbp      0.1%    0.0%      Stagonosporopsis tanaceti (** 2 equal matches)\n",
      "10.0 kbp      0.1%    0.0%      Enterobacter hormaechei (** 1 equal matches)\n",
      "10.0 kbp      0.1%    0.1%      Meyerozyma [Candida] carpophila\n",
      "\n",
      "17.0% (1.9 Mbp) of hashes have no assignment.\n",
      "\u001b[Kloaded 1 LCA databases. ksize=31, scaled=10000k-k31.lca.json.gz\n",
      "\u001b[Kloaded query: ../meyerozyma_assemblies/049.f... (k=31)\n",
      "\n",
      "overlap     p_query p_match \n",
      "---------   ------- --------\n",
      "8.7 Mbp      80.5%   97.7%      Meyerozyma caribbica\n",
      "220.0 kbp     2.0%    2.4%      Meyerozyma guilliermondii\n",
      "20.0 kbp      0.2%    0.0%      Enterobacter cloacae\n",
      "10.0 kbp      0.1%    0.0%      Stagonosporopsis tanaceti (** 1 equal matches)\n",
      "10.0 kbp      0.1%    0.1%      Meyerozyma [Candida] carpophila\n",
      "\n",
      "17.1% (1.9 Mbp) of hashes have no assignment.\n",
      "\u001b[Kloaded 1 LCA databases. ksize=31, scaled=10000k-k31.lca.json.gz\n",
      "\u001b[Kloaded query: ../meyerozyma_assemblies/053.f... (k=31)\n",
      "\n",
      "overlap     p_query p_match \n",
      "---------   ------- --------\n",
      "8.7 Mbp      80.3%   97.7%      Meyerozyma caribbica\n",
      "220.0 kbp     2.0%    2.4%      Meyerozyma guilliermondii\n",
      "30.0 kbp      0.3%    0.0%      Enterobacter cloacae\n",
      "10.0 kbp      0.1%    0.0%      Stagonosporopsis tanaceti (** 2 equal matches)\n",
      "10.0 kbp      0.1%    0.1%      Meyerozyma [Candida] carpophila (** 1 equal matches)\n",
      "10.0 kbp      0.1%    0.1%      Serratia liquefaciens\n",
      "\n",
      "17.1% (1.9 Mbp) of hashes have no assignment.\n",
      "\u001b[Kloaded 1 LCA databases. ksize=31, scaled=10000k-k31.lca.json.gz\n",
      "\u001b[Kloaded query: ../meyerozyma_assemblies/068.f... (k=31)\n",
      "\n",
      "overlap     p_query p_match \n",
      "---------   ------- --------\n",
      "8.7 Mbp      80.0%   97.7%      Meyerozyma caribbica\n",
      "220.0 kbp     2.0%    2.4%      Meyerozyma guilliermondii\n",
      "50.0 kbp      0.5%    0.0%      Enterobacter cloacae\n",
      "10.0 kbp      0.1%    0.0%      Stagonosporopsis tanaceti (** 5 equal matches)\n",
      "10.0 kbp      0.1%    0.1%      Raoultella planticola (** 4 equal matches)\n",
      "10.0 kbp      0.1%    0.1%      Meyerozyma [Candida] carpophila\n",
      "\n",
      "17.2% (1.9 Mbp) of hashes have no assignment.\n",
      "\u001b[Kloaded 1 LCA databases. ksize=31, scaled=10000k-k31.lca.json.gz\n",
      "\u001b[Kloaded query: ../meyerozyma_assemblies/071.f... (k=31)\n",
      "\n",
      "overlap     p_query p_match \n",
      "---------   ------- --------\n",
      "8.7 Mbp      80.6%   97.7%      Meyerozyma caribbica\n",
      "220.0 kbp     2.0%    2.4%      Meyerozyma guilliermondii\n",
      "10.0 kbp      0.1%    0.0%      Stagonosporopsis tanaceti (** 1 equal matches)\n",
      "10.0 kbp      0.1%    0.1%      Meyerozyma [Candida] carpophila\n",
      "\n",
      "17.2% (1.9 Mbp) of hashes have no assignment.\n",
      "\u001b[Kloaded 1 LCA databases. ksize=31, scaled=10000k-k31.lca.json.gz\n",
      "\u001b[Kloaded query: ../meyerozyma_assemblies/081.f... (k=31)\n",
      "\n",
      "overlap     p_query p_match \n",
      "---------   ------- --------\n",
      "8.7 Mbp      80.7%   97.7%      Meyerozyma caribbica\n",
      "220.0 kbp     2.0%    2.4%      Meyerozyma guilliermondii\n",
      "10.0 kbp      0.1%    0.0%      Stagonosporopsis tanaceti (** 1 equal matches)\n",
      "10.0 kbp      0.1%    0.1%      Meyerozyma [Candida] carpophila\n",
      "\n",
      "17.1% (1.9 Mbp) of hashes have no assignment.\n",
      "\u001b[Kloaded 1 LCA databases. ksize=31, scaled=10000k-k31.lca.json.gz\n",
      "\u001b[Kloaded query: ../meyerozyma_assemblies/084.f... (k=31)\n",
      "\n",
      "overlap     p_query p_match \n",
      "---------   ------- --------\n",
      "8.7 Mbp      80.8%   97.7%      Meyerozyma caribbica\n",
      "220.0 kbp     2.0%    2.4%      Meyerozyma guilliermondii\n",
      "10.0 kbp      0.1%    0.0%      Stagonosporopsis tanaceti (** 1 equal matches)\n",
      "10.0 kbp      0.1%    0.1%      Meyerozyma [Candida] carpophila\n",
      "\n",
      "17.0% (1.8 Mbp) of hashes have no assignment.\n",
      "\u001b[Kloaded 1 LCA databases. ksize=31, scaled=10000k-k31.lca.json.gz\n",
      "\u001b[Kloaded query: ../meyerozyma_assemblies/094.f... (k=31)\n",
      "\n",
      "overlap     p_query p_match \n",
      "---------   ------- --------\n",
      "8.7 Mbp      80.7%   97.7%      Meyerozyma caribbica\n",
      "220.0 kbp     2.0%    2.4%      Meyerozyma guilliermondii\n",
      "10.0 kbp      0.1%    0.0%      Stagonosporopsis tanaceti (** 1 equal matches)\n",
      "10.0 kbp      0.1%    0.1%      Meyerozyma [Candida] carpophila\n",
      "\n",
      "17.1% (1.9 Mbp) of hashes have no assignment.\n",
      "\u001b[Kloaded 1 LCA databases. ksize=31, scaled=10000k-k31.lca.json.gz\n",
      "\u001b[Kloaded query: ../meyerozyma_assemblies/127.f... (k=31)\n",
      "\n",
      "overlap     p_query p_match \n",
      "---------   ------- --------\n",
      "8.7 Mbp      80.7%   97.7%      Meyerozyma caribbica\n",
      "220.0 kbp     2.0%    2.4%      Meyerozyma guilliermondii\n",
      "10.0 kbp      0.1%    0.0%      Stagonosporopsis tanaceti (** 1 equal matches)\n",
      "10.0 kbp      0.1%    0.1%      Meyerozyma [Candida] carpophila\n",
      "\n",
      "17.1% (1.9 Mbp) of hashes have no assignment.\n",
      "\u001b[Kloaded 1 LCA databases. ksize=31, scaled=10000k-k31.lca.json.gz\n",
      "\u001b[Kloaded query: ../meyerozyma_assemblies/132.f... (k=31)\n",
      "\n",
      "overlap     p_query p_match \n",
      "---------   ------- --------\n",
      "8.7 Mbp      80.5%   97.5%      Meyerozyma caribbica\n",
      "220.0 kbp     2.0%    2.4%      Meyerozyma guilliermondii\n",
      "20.0 kbp      0.2%    0.4%      Rahnella sp. WP5 (** 2 equal matches)\n",
      "10.0 kbp      0.1%    0.0%      Stagonosporopsis tanaceti (** 1 equal matches)\n",
      "10.0 kbp      0.1%    0.1%      Meyerozyma [Candida] carpophila\n",
      "\n",
      "17.1% (1.9 Mbp) of hashes have no assignment.\n",
      "\u001b[Kloaded 1 LCA databases. ksize=31, scaled=10000k-k31.lca.json.gz\n",
      "\u001b[Kloaded query: ../meyerozyma_assemblies/135.f... (k=31)\n",
      "\n",
      "overlap     p_query p_match \n",
      "---------   ------- --------\n",
      "8.7 Mbp      80.8%   97.7%      Meyerozyma caribbica\n",
      "220.0 kbp     2.0%    2.4%      Meyerozyma guilliermondii\n",
      "10.0 kbp      0.1%    0.0%      Stagonosporopsis tanaceti (** 1 equal matches)\n",
      "10.0 kbp      0.1%    0.1%      Meyerozyma [Candida] carpophila\n",
      "\n",
      "17.0% (1.8 Mbp) of hashes have no assignment.\n"
     ]
    },
    {
     "name": "stdout",
     "output_type": "stream",
     "text": [
      "\u001b[Kloaded 1 LCA databases. ksize=31, scaled=10000k-k31.lca.json.gz\n",
      "\u001b[Kloaded query: ../meyerozyma_assemblies/344.f... (k=31)\n",
      "\n",
      "overlap     p_query p_match \n",
      "---------   ------- --------\n",
      "8.7 Mbp      80.1%   97.7%      Meyerozyma caribbica\n",
      "220.0 kbp     2.0%    2.4%      Meyerozyma guilliermondii\n",
      "60.0 kbp      0.6%    1.2%      Rahnella sp. WP5\n",
      "10.0 kbp      0.1%    0.0%      Stagonosporopsis tanaceti (** 62 equal matches)\n",
      "10.0 kbp      0.1%    0.2%      Pseudomonas sp. 25 E 4 (** 61 equal matches)\n",
      "10.0 kbp      0.1%    0.1%      Meyerozyma [Candida] carpophila\n",
      "\n",
      "17.1% (1.9 Mbp) of hashes have no assignment.\n",
      "\u001b[Kloaded 1 LCA databases. ksize=31, scaled=10000k-k31.lca.json.gz\n",
      "\u001b[Kloaded query: ../meyerozyma_assemblies/425.f... (k=31)\n",
      "\n",
      "overlap     p_query p_match \n",
      "---------   ------- --------\n",
      "8.7 Mbp      80.7%   97.7%      Meyerozyma caribbica\n",
      "220.0 kbp     2.0%    2.4%      Meyerozyma guilliermondii\n",
      "10.0 kbp      0.1%    0.0%      Stagonosporopsis tanaceti (** 38 equal matches)\n",
      "10.0 kbp      0.1%    0.5%      Waddlia chondrophila (** 37 equal matches)\n",
      "10.0 kbp      0.1%    0.1%      Meyerozyma [Candida] carpophila\n",
      "\n",
      "17.0% (1.8 Mbp) of hashes have no assignment.\n"
     ]
    }
   ],
   "source": [
    "!for i in *.sig; do sourmash lca gather $i /home/smhigdon/mnt/genbank-k31.lca.json.gz; done"
   ]
  },
  {
   "cell_type": "code",
   "execution_count": null,
   "metadata": {},
   "outputs": [],
   "source": []
  }
 ],
 "metadata": {
  "kernelspec": {
   "display_name": "Python 3",
   "language": "python",
   "name": "python3"
  },
  "language_info": {
   "codemirror_mode": {
    "name": "ipython",
    "version": 3
   },
   "file_extension": ".py",
   "mimetype": "text/x-python",
   "name": "python",
   "nbconvert_exporter": "python",
   "pygments_lexer": "ipython3",
   "version": "3.6.1"
  }
 },
 "nbformat": 4,
 "nbformat_minor": 2
}
